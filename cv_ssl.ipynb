{
 "cells": [
  {
   "cell_type": "code",
   "execution_count": 1,
   "id": "cc2239f7-73df-4dd7-82d7-ebb34a7acb2f",
   "metadata": {},
   "outputs": [
    {
     "name": "stdout",
     "output_type": "stream",
     "text": [
      "Defaulting to user installation because normal site-packages is not writeable\n",
      "Requirement already satisfied: opencv-python in c:\\users\\mayank panchal\\appdata\\roaming\\python\\python311\\site-packages (4.9.0.80)\n",
      "Requirement already satisfied: numpy>=1.21.2 in c:\\users\\mayank panchal\\appdata\\roaming\\python\\python311\\site-packages (from opencv-python) (1.26.2)\n",
      "Note: you may need to restart the kernel to use updated packages.\n"
     ]
    }
   ],
   "source": [
    "pip install opencv-python"
   ]
  },
  {
   "cell_type": "code",
   "execution_count": 5,
   "id": "7b233bc9-6584-4ed1-9a57-48aa3e714904",
   "metadata": {},
   "outputs": [
    {
     "name": "stdout",
     "output_type": "stream",
     "text": [
      "Defaulting to user installation because normal site-packages is not writeable\n",
      "Requirement already satisfied: opencv-python in c:\\users\\mayank panchal\\appdata\\roaming\\python\\python311\\site-packages (4.9.0.80)\n",
      "Requirement already satisfied: numpy>=1.21.2 in c:\\users\\mayank panchal\\appdata\\roaming\\python\\python311\\site-packages (from opencv-python) (1.26.2)\n"
     ]
    }
   ],
   "source": [
    "!pip install --upgrade opencv-python"
   ]
  },
  {
   "cell_type": "code",
   "execution_count": 2,
   "id": "d5b4b93a-5c0d-4af1-9f04-6b5ddefd4b99",
   "metadata": {},
   "outputs": [],
   "source": [
    "import cv2 as cv\n",
    "import matplotlib.pyplot as plt"
   ]
  },
  {
   "cell_type": "code",
   "execution_count": 3,
   "id": "d8981404-13ae-4f67-b666-a2ccd9ec6356",
   "metadata": {},
   "outputs": [],
   "source": [
    "import numpy as np"
   ]
  },
  {
   "cell_type": "markdown",
   "id": "f862cf8c-374f-44fe-8712-270f5a284683",
   "metadata": {},
   "source": [
    "**sobel(x)**"
   ]
  },
  {
   "cell_type": "code",
   "execution_count": 5,
   "id": "cb01a73d-dba8-4022-8159-79df2c903bc2",
   "metadata": {},
   "outputs": [
    {
     "ename": "error",
     "evalue": "OpenCV(4.9.0) D:\\a\\opencv-python\\opencv-python\\opencv\\modules\\imgproc\\src\\filter.dispatch.cpp:1528: error: (-215:Assertion failed) !_src.empty() in function 'cv::filter2D'\n",
     "output_type": "error",
     "traceback": [
      "\u001b[1;31m---------------------------------------------------------------------------\u001b[0m",
      "\u001b[1;31merror\u001b[0m                                     Traceback (most recent call last)",
      "Cell \u001b[1;32mIn[5], line 5\u001b[0m\n\u001b[0;32m      1\u001b[0m img\u001b[38;5;241m=\u001b[39mcv\u001b[38;5;241m.\u001b[39mimread(\u001b[38;5;124m\"\u001b[39m\u001b[38;5;124mimg1.jpeg\u001b[39m\u001b[38;5;124m\"\u001b[39m)\n\u001b[0;32m      2\u001b[0m i\u001b[38;5;241m=\u001b[39mnp\u001b[38;5;241m.\u001b[39marray([[\u001b[38;5;241m-\u001b[39m\u001b[38;5;241m1\u001b[39m,\u001b[38;5;241m0\u001b[39m,\u001b[38;5;241m1\u001b[39m],\n\u001b[0;32m      3\u001b[0m             [\u001b[38;5;241m-\u001b[39m\u001b[38;5;241m2\u001b[39m,\u001b[38;5;241m0\u001b[39m,\u001b[38;5;241m2\u001b[39m],\n\u001b[0;32m      4\u001b[0m             [\u001b[38;5;241m-\u001b[39m\u001b[38;5;241m1\u001b[39m,\u001b[38;5;241m0\u001b[39m,\u001b[38;5;241m1\u001b[39m]])\n\u001b[1;32m----> 5\u001b[0m img1\u001b[38;5;241m=\u001b[39m\u001b[43mcv\u001b[49m\u001b[38;5;241;43m.\u001b[39;49m\u001b[43mfilter2D\u001b[49m\u001b[43m(\u001b[49m\u001b[43mimg\u001b[49m\u001b[43m,\u001b[49m\u001b[38;5;241;43m-\u001b[39;49m\u001b[38;5;241;43m1\u001b[39;49m\u001b[43m,\u001b[49m\u001b[43mi\u001b[49m\u001b[43m)\u001b[49m\n\u001b[0;32m      6\u001b[0m cv\u001b[38;5;241m.\u001b[39mimshow(\u001b[38;5;124m\"\u001b[39m\u001b[38;5;124md\u001b[39m\u001b[38;5;124m\"\u001b[39m,img)\n\u001b[0;32m      7\u001b[0m cv\u001b[38;5;241m.\u001b[39mimshow(\u001b[38;5;124m\"\u001b[39m\u001b[38;5;124md\u001b[39m\u001b[38;5;124m\"\u001b[39m,img1)\n",
      "\u001b[1;31merror\u001b[0m: OpenCV(4.9.0) D:\\a\\opencv-python\\opencv-python\\opencv\\modules\\imgproc\\src\\filter.dispatch.cpp:1528: error: (-215:Assertion failed) !_src.empty() in function 'cv::filter2D'\n"
     ]
    }
   ],
   "source": [
    "img=cv.imread(\"img1.jpeg\")\n",
    "i=np.array([[-1,0,1],\n",
    "            [-2,0,2],\n",
    "            [-1,0,1]])\n",
    "img1=cv.filter2D(img,-1,i)\n",
    "cv.imshow(\"d\",img)\n",
    "cv.imshow(\"d\",img1)\n",
    "cv.waitKey(0)\n",
    "cv.destroyAllWindows()\n",
    "plt.show(img)\n",
    "plt.show(img1)"
   ]
  },
  {
   "cell_type": "markdown",
   "id": "062f612d-6690-4a8c-9816-f26677b77d61",
   "metadata": {},
   "source": [
    "**sobel(y)**"
   ]
  },
  {
   "cell_type": "code",
   "execution_count": 6,
   "id": "9c413418-bb67-4a2b-9896-d21a4669a9a8",
   "metadata": {},
   "outputs": [
    {
     "ename": "error",
     "evalue": "OpenCV(4.9.0) D:\\a\\opencv-python\\opencv-python\\opencv\\modules\\imgproc\\src\\filter.dispatch.cpp:1528: error: (-215:Assertion failed) !_src.empty() in function 'cv::filter2D'\n",
     "output_type": "error",
     "traceback": [
      "\u001b[1;31m---------------------------------------------------------------------------\u001b[0m",
      "\u001b[1;31merror\u001b[0m                                     Traceback (most recent call last)",
      "Cell \u001b[1;32mIn[6], line 5\u001b[0m\n\u001b[0;32m      1\u001b[0m img\u001b[38;5;241m=\u001b[39mcv\u001b[38;5;241m.\u001b[39mimread(\u001b[38;5;124m\"\u001b[39m\u001b[38;5;124md1.jpeg\u001b[39m\u001b[38;5;124m\"\u001b[39m)\n\u001b[0;32m      2\u001b[0m i\u001b[38;5;241m=\u001b[39mnp\u001b[38;5;241m.\u001b[39marray([[\u001b[38;5;241m-\u001b[39m\u001b[38;5;241m1\u001b[39m,\u001b[38;5;241m-\u001b[39m\u001b[38;5;241m2\u001b[39m,\u001b[38;5;241m-\u001b[39m\u001b[38;5;241m1\u001b[39m],\n\u001b[0;32m      3\u001b[0m             [\u001b[38;5;241m0\u001b[39m,\u001b[38;5;241m0\u001b[39m,\u001b[38;5;241m0\u001b[39m],\n\u001b[0;32m      4\u001b[0m             [\u001b[38;5;241m1\u001b[39m,\u001b[38;5;241m2\u001b[39m,\u001b[38;5;241m1\u001b[39m]])\n\u001b[1;32m----> 5\u001b[0m img1\u001b[38;5;241m=\u001b[39m\u001b[43mcv\u001b[49m\u001b[38;5;241;43m.\u001b[39;49m\u001b[43mfilter2D\u001b[49m\u001b[43m(\u001b[49m\u001b[43mimg\u001b[49m\u001b[43m,\u001b[49m\u001b[38;5;241;43m-\u001b[39;49m\u001b[38;5;241;43m1\u001b[39;49m\u001b[43m,\u001b[49m\u001b[43mi\u001b[49m\u001b[43m)\u001b[49m\n\u001b[0;32m      6\u001b[0m cv\u001b[38;5;241m.\u001b[39mimshow(\u001b[38;5;124m\"\u001b[39m\u001b[38;5;124md\u001b[39m\u001b[38;5;124m\"\u001b[39m,img)\n\u001b[0;32m      7\u001b[0m cv\u001b[38;5;241m.\u001b[39mimshow(\u001b[38;5;124m\"\u001b[39m\u001b[38;5;124md1\u001b[39m\u001b[38;5;124m\"\u001b[39m,img1)\n",
      "\u001b[1;31merror\u001b[0m: OpenCV(4.9.0) D:\\a\\opencv-python\\opencv-python\\opencv\\modules\\imgproc\\src\\filter.dispatch.cpp:1528: error: (-215:Assertion failed) !_src.empty() in function 'cv::filter2D'\n"
     ]
    }
   ],
   "source": [
    "img=cv.imread(\"d1.jpeg\")\n",
    "i=np.array([[-1,-2,-1],\n",
    "            [0,0,0],\n",
    "            [1,2,1]])\n",
    "img1=cv.filter2D(img,-1,i)\n",
    "cv.imshow(\"d\",img)\n",
    "cv.imshow(\"d1\",img1)\n",
    "cv.waitKey(0)\n",
    "cv.destroyAllWindows()"
   ]
  },
  {
   "cell_type": "markdown",
   "id": "9d9e8fd2-858d-4778-ac31-295a25ed5072",
   "metadata": {},
   "source": [
    "**laplacian(x)**"
   ]
  },
  {
   "cell_type": "code",
   "execution_count": null,
   "id": "02c928a1-b81d-4d0b-8580-d9cc04050455",
   "metadata": {},
   "outputs": [],
   "source": [
    "img=cv.imread(\"d1.jpeg\")\n",
    "i=np.array([[1,1,1],\n",
    "            [1,-8,1],\n",
    "            [1,1,1]])\n",
    "img1=cv.filter2D(img,-1,i)\n",
    "cv.imshow(\"d\",img)\n",
    "cv.imshow(\"d1\",img1)\n",
    "cv.waitKey(0)\n",
    "cv.destroyAllWindows()"
   ]
  },
  {
   "cell_type": "markdown",
   "id": "3b4efbbd-c60b-491b-8311-27fdc527fc69",
   "metadata": {},
   "source": [
    "**prewitt(x)**"
   ]
  },
  {
   "cell_type": "code",
   "execution_count": null,
   "id": "2cd16f3f-f6f9-468a-876c-1435330b8403",
   "metadata": {},
   "outputs": [],
   "source": [
    "img=cv.imread(\"d1.jpeg\")\n",
    "i=np.array([[-1,0,1],\n",
    "            [-1,0,1],\n",
    "            [-1,0,1]])\n",
    "img1=cv.filter2D(img,-1,i)\n",
    "cv.imshow(\"d\",img)\n",
    "cv.imshow(\"d1\",img1)\n",
    "cv.waitKey(0)\n",
    "cv.destroyAllWindows()"
   ]
  },
  {
   "cell_type": "markdown",
   "id": "3b9e56f9-be04-47db-a33f-40b45000bd67",
   "metadata": {},
   "source": [
    "**prewitt(y)**"
   ]
  },
  {
   "cell_type": "code",
   "execution_count": null,
   "id": "9ef972ab-87d2-4f21-bd06-cb9c38f642b4",
   "metadata": {},
   "outputs": [],
   "source": [
    "img=cv.imread(\"d1.jpeg\")\n",
    "i=np.array([[-1,-1,-1],\n",
    "            [0,0,0],\n",
    "            [1,1,1]])\n",
    "img1=cv.filter2D(img,-1,i)\n",
    "cv.imshow(\"d\",img)\n",
    "cv.imshow(\"d1\",img1)\n",
    "cv.waitKey(0)\n",
    "cv.destroyAllWindows()"
   ]
  },
  {
   "cell_type": "markdown",
   "id": "1232de6b-ac27-4763-9a14-c3d95c028961",
   "metadata": {},
   "source": [
    "**robot(x)**"
   ]
  },
  {
   "cell_type": "code",
   "execution_count": null,
   "id": "72fccd66-af15-4276-a6d2-f2237b9f7983",
   "metadata": {},
   "outputs": [],
   "source": [
    "img=cv.imread(\"d1.jpeg\")\n",
    "i=np.array([[-1,-1,-1],\n",
    "            [0,-1])\n",
    "img1=cv.filter2D(img,-1,i)\n",
    "cv.imshow(\"d\",img)\n",
    "cv.imshow(\"d1\",img1)\n",
    "cv.waitKey(0)\n",
    "cv.destroyAllWindows()"
   ]
  }
 ],
 "metadata": {
  "kernelspec": {
   "display_name": "Python 3 (ipykernel)",
   "language": "python",
   "name": "python3"
  },
  "language_info": {
   "codemirror_mode": {
    "name": "ipython",
    "version": 3
   },
   "file_extension": ".py",
   "mimetype": "text/x-python",
   "name": "python",
   "nbconvert_exporter": "python",
   "pygments_lexer": "ipython3",
   "version": "3.11.7"
  }
 },
 "nbformat": 4,
 "nbformat_minor": 5
}
