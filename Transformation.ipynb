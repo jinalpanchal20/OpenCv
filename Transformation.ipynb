{
 "cells": [
  {
   "cell_type": "code",
   "execution_count": 1,
   "id": "3a90915e",
   "metadata": {},
   "outputs": [],
   "source": [
    "import cv2 as cv\n",
    "import numpy as np"
   ]
  },
  {
   "cell_type": "markdown",
   "id": "04ec4a6d",
   "metadata": {},
   "source": [
    "# Translation"
   ]
  },
  {
   "cell_type": "code",
   "execution_count": null,
   "id": "41c8f51a",
   "metadata": {},
   "outputs": [],
   "source": [
    "def translation(img,matrix):\n",
    "    return cv.warpAffine(img,matrix,(w,h))\n",
    "img=cv.imread(\"butterfly.jpg\")\n",
    "w=img.shape[1]  #width\n",
    "h=img.shape[0]  #height \n",
    "\n",
    "matrix=np.float32([[1,0,w/4],[0,1,h/4]])\n",
    "newimg=translation(img,matrix)\n",
    "\n",
    "cv.imshow(\"oldimage\",img)\n",
    "cv.imshow(\"newimage\",newimg)\n",
    "cv.waitKey(0)"
   ]
  },
  {
   "cell_type": "markdown",
   "id": "09b2f04c",
   "metadata": {},
   "source": [
    "# Scaling"
   ]
  },
  {
   "cell_type": "code",
   "execution_count": null,
   "id": "8f4eeb06",
   "metadata": {},
   "outputs": [],
   "source": [
    "img = cv.imread('butterfly.jpg', 1)\n",
    "r = img.shape[0]  #row\n",
    "c = img.shape[1] #col\n",
    "\n",
    "shrinkedimg = cv.resize(img,(150, 185))\n",
    "enlargedimg = cv.resize(img,(200,300))\n",
    "\n",
    "cv.imshow('enlargedimg', enlargedimg)\n",
    "cv.imshow('shrinkedimg', shrinkedimg)\n",
    "cv.waitKey(0)"
   ]
  },
  {
   "cell_type": "markdown",
   "id": "92902b4d",
   "metadata": {},
   "source": [
    "# Shearing"
   ]
  },
  {
   "cell_type": "code",
   "execution_count": null,
   "id": "c40bd014",
   "metadata": {},
   "outputs": [],
   "source": [
    "img = cv.imread('butterfly.jpg', 1)\n",
    "r = img.shape[0]  #row\n",
    "c = img.shape[1] #col\n",
    "\n",
    "matrix = np.float32([[1, 0.5, 0], [0, 1, 0], [0, 0, 1]])\n",
    "shearedimg = cv.warpPerspective(img, matrix, (int(c*1.5), int(r*1.5)))\n",
    "cv.imshow('img', shearedimg)\n",
    "cv.waitKey(0)"
   ]
  },
  {
   "cell_type": "markdown",
   "id": "fd6f83ac",
   "metadata": {},
   "source": [
    "# Rotation"
   ]
  },
  {
   "cell_type": "code",
   "execution_count": null,
   "id": "801ecc47",
   "metadata": {},
   "outputs": [],
   "source": [
    "img = cv.imread('butterfly.jpg', 0)\n",
    "r = img.shape[0]  #row\n",
    "c = img.shape[1] #col\n",
    "\n",
    "matrix = np.float32([[1,  0, 0], [0, 1, 1], [0,  0, 1]])\n",
    "rotatedimg = cv.warpAffine(img,cv.getRotationMatrix2D((c/2, r/2),30, 0.5),(c, r))\n",
    "\n",
    "cv.imshow(\"rotatedimg\",rotatedimg)\n",
    "cv.waitKey(0)\n"
   ]
  }
 ],
 "metadata": {
  "kernelspec": {
   "display_name": "Python 3 (ipykernel)",
   "language": "python",
   "name": "python3"
  },
  "language_info": {
   "codemirror_mode": {
    "name": "ipython",
    "version": 3
   },
   "file_extension": ".py",
   "mimetype": "text/x-python",
   "name": "python",
   "nbconvert_exporter": "python",
   "pygments_lexer": "ipython3",
   "version": "3.11.4"
  }
 },
 "nbformat": 4,
 "nbformat_minor": 5
}
