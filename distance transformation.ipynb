{
 "cells": [
  {
   "cell_type": "code",
   "execution_count": 39,
   "id": "2924e0bf",
   "metadata": {},
   "outputs": [],
   "source": [
    " import cv2 as cv"
   ]
  },
  {
   "cell_type": "code",
   "execution_count": 40,
   "id": "5b0b2045",
   "metadata": {},
   "outputs": [],
   "source": [
    "img=cv.imread(\"images.jpg\")\n",
    "img1=cv.resize(img,(600,400))\n",
    "cv.imshow(\"img1\",img1)\n",
    "cv.waitKey(0)\n",
    "cv.destroyAllWindows()"
   ]
  },
  {
   "cell_type": "code",
   "execution_count": 45,
   "id": "1ebe08e4",
   "metadata": {},
   "outputs": [],
   "source": [
    "greyscale=cv.cvtColor(img1,cv.COLOR_RGB2GRAY)\n",
    "cv.imshow(\"greyscaled\",greyscale)\n",
    "cv.waitKey(0)\n",
    "cv.destroyAllWindows()"
   ]
  },
  {
   "cell_type": "code",
   "execution_count": 46,
   "id": "98410e66",
   "metadata": {},
   "outputs": [],
   "source": [
    "temp,threshold=cv.threshold(greyscale,110,200,cv.THRESH_BINARY)\n",
    "cv.imshow(\"thresolded\",threshold)\n",
    "cv.waitKey(0)\n",
    "cv.destroyAllWindows()"
   ]
  },
  {
   "cell_type": "code",
   "execution_count": null,
   "id": "a026c55c",
   "metadata": {},
   "outputs": [],
   "source": [
    "dist_tranform1=cv.distanceTransform(threshold,cv.DIST_L1,3)\n",
    "dist_tranform2=cv.distanceTransform(threshold,cv.DIST_L2,3)\n",
    "dist_tranform3=cv.distanceTransform(threshold,cv.DIST_C,3)\n",
    "cv.imshow(\"dist_tranform1\",dist_tranform1)\n",
    "cv.imshow(\"dist_tranform2\",dist_tranform2)\n",
    "cv.imshow(\"dist_tranform3\",dist_tranform3)\n",
    "cv.imshow(\"img1\",img1)\n",
    "cv.waitKey(0)\n",
    "cv.destroyAllWindows()"
   ]
  },
  {
   "cell_type": "code",
   "execution_count": null,
   "id": "795b2743",
   "metadata": {},
   "outputs": [],
   "source": []
  }
 ],
 "metadata": {
  "kernelspec": {
   "display_name": "Python 3",
   "language": "python",
   "name": "python3"
  },
  "language_info": {
   "codemirror_mode": {
    "name": "ipython",
    "version": 3
   },
   "file_extension": ".py",
   "mimetype": "text/x-python",
   "name": "python",
   "nbconvert_exporter": "python",
   "pygments_lexer": "ipython3",
   "version": "3.8.8"
  }
 },
 "nbformat": 4,
 "nbformat_minor": 5
}
