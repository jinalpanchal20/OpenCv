{
 "cells": [
  {
   "cell_type": "code",
   "execution_count": null,
   "id": "b40a6b4d",
   "metadata": {},
   "outputs": [],
   "source": [
    "import cv2 as cv\n",
    "import numpy as np"
   ]
  },
  {
   "cell_type": "code",
   "execution_count": null,
   "id": "4fbe7f1e",
   "metadata": {},
   "outputs": [],
   "source": [
    "# sharpening\n",
    "\n",
    "img = cv.imread('butterfly.jpg')\n",
    "kernel4 = np.array([[0, -1, 0],\n",
    "                    [-1, 5, -1],\n",
    "                    [0, -1, 0]])\n",
    "sharpen = cv2.filter2D(img,-1,kernel4)\n",
    "  \n",
    "cv.imshow('Original', img)\n",
    "cv.imshow('sharpen', sharpen)\n",
    "cv.waitKey(0)"
   ]
  },
  {
   "cell_type": "code",
   "execution_count": null,
   "id": "706f40e3",
   "metadata": {},
   "outputs": [],
   "source": [
    "#Blur\n",
    "\n",
    "img = cv.imread('butterfly.jpg')\n",
    "kernel = np.ones((3, 3))/10\n",
    "blurimg = cv.filter2D(img,-1,kernel)\n",
    "  \n",
    "cv.imshow('Original', img)\n",
    "cv.imshow('Blur', blurimg)\n",
    "cv.waitKey()"
   ]
  },
  {
   "cell_type": "code",
   "execution_count": null,
   "id": "afe10238",
   "metadata": {},
   "outputs": [],
   "source": [
    "#Gaussian Blur\n",
    "\n",
    "img = cv.imread('butterfly.jpg')\n",
    "kernel2 = np.array([[1,4,6,4,1],\n",
    "                    [4,16,24,16,4],\n",
    "                    [6,24,36,24,6],\n",
    "                    [4,16,24,16,4],\n",
    "                    [1,4,6,4,1]])/256\n",
    "Gaussianblur = cv.filter2D(img,-1,kernel2)\n",
    "  \n",
    "cv.imshow('Original', img)\n",
    "cv.imshow('GaussianBlur', Gaussianblur)\n",
    "cv.waitKey(0)"
   ]
  },
  {
   "cell_type": "code",
   "execution_count": null,
   "id": "82b2484f",
   "metadata": {},
   "outputs": [],
   "source": [
    "#edge detection\n",
    "import cv2\n",
    "img = cv.imread('butterfly.jpg')\n",
    "kernel3 = np.array([[-1, -1, -1],\n",
    "                    [-1, 8, -1],\n",
    "                    [-1, -1, -1]])\n",
    "edge = cv2.filter2D(img,-1,kernel3)\n",
    "  \n",
    "cv.imshow('Original', img)\n",
    "cv.imshow('edge', edge)\n",
    "cv.waitKey(0)"
   ]
  },
  {
   "cell_type": "code",
   "execution_count": null,
   "id": "31ffac42",
   "metadata": {},
   "outputs": [],
   "source": [
    "#box blur\n",
    "\n",
    "img = cv.imread('butterfly.jpg')\n",
    "kernel1 = np.ones((3, 3))/9\n",
    "boxblur = cv.filter2D(img,-1,kernel1)\n",
    "  \n",
    "cv.imshow('Original', img)\n",
    "cv.imshow('BoxBlur', boxblur)\n",
    "cv.waitKey()"
   ]
  },
  {
   "cell_type": "code",
   "execution_count": null,
   "id": "737ed269",
   "metadata": {},
   "outputs": [],
   "source": []
  }
 ],
 "metadata": {
  "kernelspec": {
   "display_name": "Python 3 (ipykernel)",
   "language": "python",
   "name": "python3"
  },
  "language_info": {
   "codemirror_mode": {
    "name": "ipython",
    "version": 3
   },
   "file_extension": ".py",
   "mimetype": "text/x-python",
   "name": "python",
   "nbconvert_exporter": "python",
   "pygments_lexer": "ipython3",
   "version": "3.11.7"
  }
 },
 "nbformat": 4,
 "nbformat_minor": 5
}
