{
 "cells": [
  {
   "cell_type": "markdown",
   "id": "c04bb811",
   "metadata": {},
   "source": [
    "# EROSION SCRATCH"
   ]
  },
  {
   "cell_type": "code",
   "execution_count": null,
   "id": "8539b289",
   "metadata": {},
   "outputs": [],
   "source": [
    "import cv2 as cv\n",
    "import numpy as np"
   ]
  },
  {
   "cell_type": "code",
   "execution_count": 14,
   "id": "5d32d136",
   "metadata": {},
   "outputs": [],
   "source": [
    "c = cv.imread('input-image1.png')\n",
    "th , n = cv.threshold(c,127,255,cv.THRESH_BINARY)\n",
    "cv.imshow('Image' , n)\n",
    "cv.waitKey(0)\n",
    "cv.destroyAllWindows()"
   ]
  },
  {
   "cell_type": "code",
   "execution_count": 15,
   "id": "369306ce",
   "metadata": {},
   "outputs": [],
   "source": [
    "def erosion (img,kernel):\n",
    "    SE = kernel.shape[0]//2\n",
    "    img_copy = img.copy()\n",
    "    \n",
    "    for i in range(SE , img_copy.shape[0] - SE):\n",
    "        for j in range(SE , img_copy.shape[1] - SE):\n",
    "            tmp = img[i-SE : i+SE+1 , j-SE : j+SE+1]\n",
    "            if not(tmp==kernel).all():\n",
    "                img_copy[i,j]=0\n",
    "            else:\n",
    "                img_copy[i,j]=255\n",
    "    return img_copy\n",
    "        "
   ]
  },
  {
   "cell_type": "code",
   "execution_count": 17,
   "id": "42c84e3e",
   "metadata": {},
   "outputs": [],
   "source": [
    "arr = np.array([[255,255,255],[255,255,255],[255,255,255]])\n",
    "e_image = erosion(n,arr)"
   ]
  },
  {
   "cell_type": "code",
   "execution_count": 18,
   "id": "0088eb45",
   "metadata": {},
   "outputs": [],
   "source": [
    "cv.imshow('Original',n)\n",
    "cv.imshow('Erosional Image',e_image)\n",
    "cv.waitKey(0)\n",
    "cv.destroyAllWindows()"
   ]
  },
  {
   "cell_type": "code",
   "execution_count": null,
   "id": "8efc89dd",
   "metadata": {},
   "outputs": [],
   "source": []
  },
  {
   "cell_type": "markdown",
   "id": "02b027c5",
   "metadata": {},
   "source": [
    "# EROSION WITH erode()"
   ]
  },
  {
   "cell_type": "code",
   "execution_count": null,
   "id": "71702656",
   "metadata": {},
   "outputs": [],
   "source": [
    "import cv2 as cv\n",
    "import numpy as np"
   ]
  },
  {
   "cell_type": "code",
   "execution_count": null,
   "id": "5df57e59",
   "metadata": {},
   "outputs": [],
   "source": [
    "image = cv.imread('input-image1.png',1)\n",
    "cv.imshow('Original',image)\n",
    "cv.waitKey(0)\n",
    "cv.destroyAllWindows()"
   ]
  },
  {
   "cell_type": "code",
   "execution_count": null,
   "id": "895d93c3",
   "metadata": {
    "scrolled": true
   },
   "outputs": [],
   "source": [
    "kernel = np.ones((5,5))\n",
    "kernel"
   ]
  },
  {
   "cell_type": "code",
   "execution_count": null,
   "id": "97998b5e",
   "metadata": {},
   "outputs": [],
   "source": [
    "image.shape"
   ]
  },
  {
   "cell_type": "code",
   "execution_count": null,
   "id": "ce135ee7",
   "metadata": {},
   "outputs": [],
   "source": [
    "erosion = cv.erode(image,kernel,iterations=1)\n",
    "erosion"
   ]
  },
  {
   "cell_type": "code",
   "execution_count": null,
   "id": "2e66ab73",
   "metadata": {},
   "outputs": [],
   "source": [
    "cv.imshow('Original',image)\n",
    "cv.imshow('Erosional image',erosion)\n",
    "cv.waitKey(0)\n",
    "cv.destroyAllWindows()"
   ]
  },
  {
   "cell_type": "markdown",
   "id": "8a167db2",
   "metadata": {},
   "source": [
    "-------------------------------------------------------------------------------------------------------------"
   ]
  },
  {
   "cell_type": "markdown",
   "id": "15348406",
   "metadata": {},
   "source": [
    "# DILATION FROM SCRATCH"
   ]
  },
  {
   "cell_type": "code",
   "execution_count": 19,
   "id": "8768a645",
   "metadata": {},
   "outputs": [],
   "source": [
    "import cv2 as cv\n",
    "import numpy as np"
   ]
  },
  {
   "cell_type": "code",
   "execution_count": 20,
   "id": "355aa067",
   "metadata": {},
   "outputs": [],
   "source": [
    "d = cv.imread('input-image1.png')\n",
    "th , d = cv.threshold(d,127,255,cv.THRESH_BINARY)\n",
    "cv.imshow('Image' , d)\n",
    "cv.waitKey(0)\n",
    "cv.destroyAllWindows()"
   ]
  },
  {
   "cell_type": "code",
   "execution_count": 26,
   "id": "ef29e9a2",
   "metadata": {},
   "outputs": [],
   "source": [
    "def dilation (img,kernel):\n",
    "    SE = kernel.shape[0]//2\n",
    "    img_copy = img.copy()\n",
    "    \n",
    "    for i in range(SE , img_copy.shape[0] - SE):\n",
    "        for j in range(SE , img_copy.shape[1] - SE):\n",
    "            tmp = img[i-SE : i+SE+1 , j-SE : j+SE+1]\n",
    "            if not(tmp==kernel).any():\n",
    "                img_copy[i,j]=0\n",
    "            else:\n",
    "                img_copy[i,j]=255\n",
    "    return img_copy\n",
    "        "
   ]
  },
  {
   "cell_type": "code",
   "execution_count": 27,
   "id": "0cd6075d",
   "metadata": {},
   "outputs": [],
   "source": [
    "arr = np.array([[255,255,255],[255,255,255],[255,255,255]])\n",
    "e_image = dilation(d,arr)"
   ]
  },
  {
   "cell_type": "code",
   "execution_count": 28,
   "id": "a641a028",
   "metadata": {},
   "outputs": [],
   "source": [
    "cv.imshow('Original',d)\n",
    "cv.imshow('Dilational Image',e_image)\n",
    "cv.waitKey(0)\n",
    "cv.destroyAllWindows()"
   ]
  },
  {
   "cell_type": "markdown",
   "id": "856688d5",
   "metadata": {},
   "source": [
    "# DILATION WITH dilate()"
   ]
  },
  {
   "cell_type": "code",
   "execution_count": null,
   "id": "a633dcca",
   "metadata": {},
   "outputs": [],
   "source": [
    "import cv2 as cv\n",
    "import numpy as np"
   ]
  },
  {
   "cell_type": "code",
   "execution_count": null,
   "id": "4af72023",
   "metadata": {},
   "outputs": [],
   "source": [
    "image = cv.imread('input-image1.png',1)\n",
    "cv.imshow('Original',image)\n",
    "cv.waitKey(0)\n",
    "cv.destroyAllWindows()"
   ]
  },
  {
   "cell_type": "code",
   "execution_count": null,
   "id": "b9299abc",
   "metadata": {},
   "outputs": [],
   "source": [
    "kernel = np.ones((5,5))\n",
    "kernel"
   ]
  },
  {
   "cell_type": "code",
   "execution_count": null,
   "id": "6561b94d",
   "metadata": {},
   "outputs": [],
   "source": [
    "dilation = cv.dilate(image,kernel,iterations=1)\n",
    "dilation"
   ]
  },
  {
   "cell_type": "code",
   "execution_count": null,
   "id": "26b40f78",
   "metadata": {},
   "outputs": [],
   "source": [
    "cv.imshow('Original',image)\n",
    "cv.imshow('Dilational image',dilation)\n",
    "cv.waitKey(0)\n",
    "cv.destroyAllWindows()"
   ]
  },
  {
   "cell_type": "markdown",
   "id": "e3391a0f",
   "metadata": {},
   "source": [
    "OPENING , CLOSING"
   ]
  },
  {
   "cell_type": "code",
   "execution_count": 30,
   "id": "9bc4e5f8",
   "metadata": {},
   "outputs": [],
   "source": [
    "op1 = erosion(n,arr)\n",
    "op2 = dilation(op1,arr)\n",
    "\n",
    "q1 = dilation(n,arr)\n",
    "q2 = erosion(q1,arr)\n",
    "\n",
    "cv.imshow('Original',n)\n",
    "cv.imshow('Opening',op2)\n",
    "cv.imshow('closing',q2)\n",
    "\n",
    "cv.waitKey(0)\n",
    "cv.destroyAllWindows()"
   ]
  }
 ],
 "metadata": {
  "kernelspec": {
   "display_name": "Python 3 (ipykernel)",
   "language": "python",
   "name": "python3"
  },
  "language_info": {
   "codemirror_mode": {
    "name": "ipython",
    "version": 3
   },
   "file_extension": ".py",
   "mimetype": "text/x-python",
   "name": "python",
   "nbconvert_exporter": "python",
   "pygments_lexer": "ipython3",
   "version": "3.11.7"
  }
 },
 "nbformat": 4,
 "nbformat_minor": 5
}
