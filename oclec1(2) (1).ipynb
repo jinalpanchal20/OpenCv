{
 "cells": [
  {
   "cell_type": "code",
   "execution_count": 20,
   "id": "e2c328ea-505f-4ff8-b599-7fd0ba8c8f0d",
   "metadata": {},
   "outputs": [],
   "source": [
    "import cv2"
   ]
  },
  {
   "cell_type": "code",
   "execution_count": 21,
   "id": "1d008ab0-6453-439b-905e-237b2bfaabef",
   "metadata": {},
   "outputs": [
    {
     "data": {
      "text/plain": [
       "'4.9.0'"
      ]
     },
     "execution_count": 21,
     "metadata": {},
     "output_type": "execute_result"
    }
   ],
   "source": [
    "cv2.__version__"
   ]
  },
  {
   "cell_type": "code",
   "execution_count": 22,
   "id": "0faa55ed-38e8-4522-a5d6-df7d1b9aa1d5",
   "metadata": {},
   "outputs": [],
   "source": [
    "import cv2 as cv\n",
    "import numpy as np"
   ]
  },
  {
   "cell_type": "markdown",
   "id": "e3272145-91be-4190-88f0-c09bb3013de8",
   "metadata": {},
   "source": [
    "**open the first image**"
   ]
  },
  {
   "cell_type": "code",
   "execution_count": 23,
   "id": "390e8646-d116-48c4-b254-2779e3f759de",
   "metadata": {},
   "outputs": [],
   "source": [
    "img1=cv.imread(\"img1.jpg\",-1)"
   ]
  },
  {
   "cell_type": "code",
   "execution_count": 24,
   "id": "f5c801a8-00eb-4558-8f8b-95d24fdd1a19",
   "metadata": {
    "scrolled": true
   },
   "outputs": [
    {
     "ename": "error",
     "evalue": "OpenCV(4.9.0) D:\\a\\opencv-python\\opencv-python\\opencv\\modules\\highgui\\src\\window.cpp:1272: error: (-2:Unspecified error) The function is not implemented. Rebuild the library with Windows, GTK+ 2.x or Cocoa support. If you are on Ubuntu or Debian, install libgtk2.0-dev and pkg-config, then re-run cmake or configure script in function 'cvShowImage'\n",
     "output_type": "error",
     "traceback": [
      "\u001b[1;31m---------------------------------------------------------------------------\u001b[0m",
      "\u001b[1;31merror\u001b[0m                                     Traceback (most recent call last)",
      "Cell \u001b[1;32mIn[24], line 2\u001b[0m\n\u001b[0;32m      1\u001b[0m rvar\u001b[38;5;241m=\u001b[39mcv\u001b[38;5;241m.\u001b[39mresize(img1,(\u001b[38;5;241m300\u001b[39m,\u001b[38;5;241m350\u001b[39m))\n\u001b[1;32m----> 2\u001b[0m \u001b[43mcv\u001b[49m\u001b[38;5;241;43m.\u001b[39;49m\u001b[43mimshow\u001b[49m\u001b[43m(\u001b[49m\u001b[38;5;124;43m\"\u001b[39;49m\u001b[38;5;124;43mdemo\u001b[39;49m\u001b[38;5;124;43m\"\u001b[39;49m\u001b[43m,\u001b[49m\u001b[43mrvar\u001b[49m\u001b[43m)\u001b[49m\n\u001b[0;32m      3\u001b[0m cv\u001b[38;5;241m.\u001b[39mwaitKey(\u001b[38;5;241m0\u001b[39m)\n\u001b[0;32m      4\u001b[0m cv\u001b[38;5;241m.\u001b[39mdestroyAllWindows()\n",
      "\u001b[1;31merror\u001b[0m: OpenCV(4.9.0) D:\\a\\opencv-python\\opencv-python\\opencv\\modules\\highgui\\src\\window.cpp:1272: error: (-2:Unspecified error) The function is not implemented. Rebuild the library with Windows, GTK+ 2.x or Cocoa support. If you are on Ubuntu or Debian, install libgtk2.0-dev and pkg-config, then re-run cmake or configure script in function 'cvShowImage'\n"
     ]
    }
   ],
   "source": [
    "rvar=cv.resize(img1,(300,350))\n",
    "cv.imshow(\"demo\",rvar)\n",
    "cv.waitKey(0)\n",
    "cv.destroyAllWindows()"
   ]
  },
  {
   "cell_type": "markdown",
   "id": "fbb64445-3f67-4774-89c2-42bfde716790",
   "metadata": {},
   "source": [
    "**got the shape**"
   ]
  },
  {
   "cell_type": "code",
   "execution_count": 7,
   "id": "0ad1724c-4897-4507-a0d7-9a1a20c11fe4",
   "metadata": {},
   "outputs": [
    {
     "name": "stdout",
     "output_type": "stream",
     "text": [
      "(350, 300, 3)\n"
     ]
    }
   ],
   "source": [
    "print(rvar.shape)"
   ]
  },
  {
   "cell_type": "markdown",
   "id": "dbbc3cdd-2f80-4d01-af91-115f573920c2",
   "metadata": {},
   "source": [
    "***open the second image***"
   ]
  },
  {
   "cell_type": "code",
   "execution_count": 9,
   "id": "e7fccfd2-fc4a-4e87-827d-0f85204154e2",
   "metadata": {},
   "outputs": [],
   "source": [
    "img2=cv.imread(\"img2.jpg\",-1)"
   ]
  },
  {
   "cell_type": "code",
   "execution_count": 11,
   "id": "0f767e4b-3534-48e4-9019-72f4bda24ada",
   "metadata": {},
   "outputs": [
    {
     "ename": "error",
     "evalue": "OpenCV(4.9.0) D:\\a\\opencv-python\\opencv-python\\opencv\\modules\\highgui\\src\\window.cpp:1272: error: (-2:Unspecified error) The function is not implemented. Rebuild the library with Windows, GTK+ 2.x or Cocoa support. If you are on Ubuntu or Debian, install libgtk2.0-dev and pkg-config, then re-run cmake or configure script in function 'cvShowImage'\n",
     "output_type": "error",
     "traceback": [
      "\u001b[1;31m---------------------------------------------------------------------------\u001b[0m",
      "\u001b[1;31merror\u001b[0m                                     Traceback (most recent call last)",
      "Cell \u001b[1;32mIn[11], line 2\u001b[0m\n\u001b[0;32m      1\u001b[0m rvar1\u001b[38;5;241m=\u001b[39mcv\u001b[38;5;241m.\u001b[39mresize(img2,(\u001b[38;5;241m300\u001b[39m,\u001b[38;5;241m350\u001b[39m))\n\u001b[1;32m----> 2\u001b[0m \u001b[43mcv\u001b[49m\u001b[38;5;241;43m.\u001b[39;49m\u001b[43mimshow\u001b[49m\u001b[43m(\u001b[49m\u001b[38;5;124;43m\"\u001b[39;49m\u001b[38;5;124;43mdemo1\u001b[39;49m\u001b[38;5;124;43m\"\u001b[39;49m\u001b[43m,\u001b[49m\u001b[43mrvar1\u001b[49m\u001b[43m)\u001b[49m\n\u001b[0;32m      3\u001b[0m cv\u001b[38;5;241m.\u001b[39mwaitKey(\u001b[38;5;241m0\u001b[39m)\n\u001b[0;32m      5\u001b[0m cv\u001b[38;5;241m.\u001b[39mdestroyAllWindows()\n",
      "\u001b[1;31merror\u001b[0m: OpenCV(4.9.0) D:\\a\\opencv-python\\opencv-python\\opencv\\modules\\highgui\\src\\window.cpp:1272: error: (-2:Unspecified error) The function is not implemented. Rebuild the library with Windows, GTK+ 2.x or Cocoa support. If you are on Ubuntu or Debian, install libgtk2.0-dev and pkg-config, then re-run cmake or configure script in function 'cvShowImage'\n"
     ]
    }
   ],
   "source": [
    "rvar1=cv.resize(img2,(300,350))\n",
    "cv.imshow(\"demo1\",rvar1)\n",
    "cv.waitKey(0)\n",
    "\n",
    "cv.destroyAllWindows()"
   ]
  },
  {
   "cell_type": "markdown",
   "id": "37841675-7828-4b98-a70c-545e49c678df",
   "metadata": {},
   "source": [
    "***got the shape***"
   ]
  },
  {
   "cell_type": "code",
   "execution_count": 9,
   "id": "ec59c23e-9741-4b02-9d0b-4f7f1aefc95e",
   "metadata": {},
   "outputs": [
    {
     "name": "stdout",
     "output_type": "stream",
     "text": [
      "(350, 300, 3)\n"
     ]
    }
   ],
   "source": [
    "print(rvar1.shape)"
   ]
  },
  {
   "cell_type": "markdown",
   "id": "1e3fd8d0-8719-4cc8-bf2e-056374517439",
   "metadata": {},
   "source": [
    "***add the image***"
   ]
  },
  {
   "cell_type": "code",
   "execution_count": 12,
   "id": "aaac161d-cde0-465f-bee4-8922a40eca37",
   "metadata": {},
   "outputs": [
    {
     "ename": "error",
     "evalue": "OpenCV(4.9.0) D:\\a\\opencv-python\\opencv-python\\opencv\\modules\\highgui\\src\\window.cpp:1272: error: (-2:Unspecified error) The function is not implemented. Rebuild the library with Windows, GTK+ 2.x or Cocoa support. If you are on Ubuntu or Debian, install libgtk2.0-dev and pkg-config, then re-run cmake or configure script in function 'cvShowImage'\n",
     "output_type": "error",
     "traceback": [
      "\u001b[1;31m---------------------------------------------------------------------------\u001b[0m",
      "\u001b[1;31merror\u001b[0m                                     Traceback (most recent call last)",
      "Cell \u001b[1;32mIn[12], line 2\u001b[0m\n\u001b[0;32m      1\u001b[0m img3\u001b[38;5;241m=\u001b[39mcv\u001b[38;5;241m.\u001b[39madd(rvar,rvar1)\n\u001b[1;32m----> 2\u001b[0m \u001b[43mcv\u001b[49m\u001b[38;5;241;43m.\u001b[39;49m\u001b[43mimshow\u001b[49m\u001b[43m(\u001b[49m\u001b[38;5;124;43m\"\u001b[39;49m\u001b[38;5;124;43mdemo2\u001b[39;49m\u001b[38;5;124;43m\"\u001b[39;49m\u001b[43m,\u001b[49m\u001b[43mimg3\u001b[49m\u001b[43m)\u001b[49m\n\u001b[0;32m      3\u001b[0m cv\u001b[38;5;241m.\u001b[39mwaitKey(\u001b[38;5;241m5000\u001b[39m)\n\u001b[0;32m      4\u001b[0m cv\u001b[38;5;241m.\u001b[39mdestroyAllWindows()\n",
      "\u001b[1;31merror\u001b[0m: OpenCV(4.9.0) D:\\a\\opencv-python\\opencv-python\\opencv\\modules\\highgui\\src\\window.cpp:1272: error: (-2:Unspecified error) The function is not implemented. Rebuild the library with Windows, GTK+ 2.x or Cocoa support. If you are on Ubuntu or Debian, install libgtk2.0-dev and pkg-config, then re-run cmake or configure script in function 'cvShowImage'\n"
     ]
    }
   ],
   "source": [
    "img3=cv.add(rvar,rvar1)\n",
    "cv.imshow(\"demo2\",img3)\n",
    "cv.waitKey(5000)\n",
    "cv.destroyAllWindows()"
   ]
  },
  {
   "cell_type": "markdown",
   "id": "2a199519-1527-4889-a1e9-1d68445ded9d",
   "metadata": {},
   "source": [
    "***add the addweighted image***"
   ]
  },
  {
   "cell_type": "code",
   "execution_count": 11,
   "id": "7b95efbe-cffd-4b2a-88ef-df36b7afa360",
   "metadata": {},
   "outputs": [],
   "source": [
    "img4=cv.addWeighted(rvar,0.7,rvar1,0.3,0)\n",
    "cv.imshow(\"demo3\",img4)\n",
    "cv.waitKey(5000)\n",
    "cv.destroyAllWindows()"
   ]
  },
  {
   "cell_type": "markdown",
   "id": "b92ae2cc-9a7d-442c-8e8d-d8a859b89207",
   "metadata": {},
   "source": [
    "***substract the one image with one another image***"
   ]
  },
  {
   "cell_type": "code",
   "execution_count": 12,
   "id": "93a2c8a0-a719-49d3-a7ac-ed3d2c803d99",
   "metadata": {},
   "outputs": [],
   "source": [
    "img5=cv.subtract(rvar,rvar1)\n",
    "cv.imshow(\"demo3\",img5)\n",
    "cv.waitKey(5000)\n",
    "cv.destroyAllWindows()"
   ]
  },
  {
   "cell_type": "markdown",
   "id": "96728802-06f2-4ac2-bb85-ea4716dc8eb8",
   "metadata": {},
   "source": [
    "***substract the  image***"
   ]
  },
  {
   "cell_type": "code",
   "execution_count": 13,
   "id": "99c313d7-9f03-498d-acb8-37167b4253c4",
   "metadata": {},
   "outputs": [],
   "source": [
    "img6=cv.subtract(rvar,rvar)\n",
    "cv.imshow(\"demo4\",img6)\n",
    "cv.waitKey(5000)\n",
    "cv.destroyAllWindows()"
   ]
  },
  {
   "cell_type": "markdown",
   "id": "64f7885d-4dbc-493f-be06-bfaeb2b0c0ea",
   "metadata": {},
   "source": [
    "***substract the added image with substracted image***"
   ]
  },
  {
   "cell_type": "code",
   "execution_count": 14,
   "id": "dca218dc-1d5a-43a8-b62c-fbcef492a83c",
   "metadata": {},
   "outputs": [],
   "source": [
    "img7=cv.subtract(img3,img5)\n",
    "cv.imshow(\"demo5\",img7)\n",
    "cv.waitKey(5000)\n",
    "cv.destroyAllWindows()"
   ]
  },
  {
   "cell_type": "code",
   "execution_count": 15,
   "id": "ba9c7f30-d50b-47c2-8747-1af44145c05c",
   "metadata": {},
   "outputs": [],
   "source": [
    "dest_and=cv.bitwise_and(rvar,rvar1,mask=None)\n",
    "cv.imshow(\"demo6\",dest_and)\n",
    "cv.waitKey(5000)\n",
    "cv.destroyAllWindows()"
   ]
  },
  {
   "cell_type": "code",
   "execution_count": 16,
   "id": "65a9d1b9-f7c4-4ad0-a6b1-b631826471f1",
   "metadata": {},
   "outputs": [],
   "source": [
    "dest_not=cv.bitwise_not(rvar,rvar1,mask=None)\n",
    "cv.imshow(\"demo7\",dest_not)\n",
    "cv.waitKey(5000)\n",
    "cv.destroyAllWindows()"
   ]
  },
  {
   "cell_type": "code",
   "execution_count": 17,
   "id": "4f46a3ea-fc2d-4cdd-92a4-b75980c73e91",
   "metadata": {},
   "outputs": [],
   "source": [
    "im=cv.imread(\"u.jpg\",0)"
   ]
  },
  {
   "cell_type": "code",
   "execution_count": 18,
   "id": "2b0ff843-9510-4dec-bb5c-b85ba149be41",
   "metadata": {},
   "outputs": [],
   "source": [
    "im1=cv.resize(im,(300,350))\n",
    "cv.imshow(\"gray\",im1)\n",
    "cv.waitKey(5000)\n",
    "\n",
    "cv.destroyAllWindows()"
   ]
  },
  {
   "cell_type": "code",
   "execution_count": 21,
   "id": "e9a4925c-bcfc-4b93-8bd1-0f283b840b51",
   "metadata": {},
   "outputs": [],
   "source": [
    "im2=cv.imread(\"doramon.jpg\",0)"
   ]
  },
  {
   "cell_type": "code",
   "execution_count": 22,
   "id": "db31180b-5e55-43c6-b7a3-bbeb898dddef",
   "metadata": {},
   "outputs": [],
   "source": [
    "im3=cv.resize(im2,(300,350))\n",
    "cv.imshow(\"gray1\",im3)\n",
    "cv.waitKey(5000)\n",
    "\n",
    "cv.destroyAllWindows()"
   ]
  },
  {
   "cell_type": "code",
   "execution_count": 23,
   "id": "c787aa71-e4b9-4016-98d2-780162460bc9",
   "metadata": {},
   "outputs": [],
   "source": [
    "dest_and1=cv.bitwise_and(im1,im3,mask=None)\n",
    "cv.imshow(\"gray1\",dest_and1)\n",
    "cv.waitKey(5000)\n",
    "cv.destroyAllWindows()"
   ]
  },
  {
   "cell_type": "code",
   "execution_count": 24,
   "id": "daae89b3-6406-41fa-8eb3-0b531826a3f5",
   "metadata": {},
   "outputs": [],
   "source": [
    "dest_or=cv.bitwise_or(im1,im3,mask=None)\n",
    "cv.imshow(\"demo8\",dest_or)\n",
    "cv.waitKey(5000)\n",
    "cv.destroyAllWindows()"
   ]
  },
  {
   "cell_type": "code",
   "execution_count": 25,
   "id": "ea5d9cc6-5606-49e9-afd6-2d1155a08911",
   "metadata": {},
   "outputs": [],
   "source": [
    "dest_or1=cv.bitwise_or(rvar,rvar1,mask=None)\n",
    "cv.imshow(\"demo9\",dest_or1)\n",
    "cv.waitKey(5000)\n",
    "cv.destroyAllWindows()"
   ]
  },
  {
   "cell_type": "code",
   "execution_count": null,
   "id": "a160a3f5-400a-4207-8cd7-c545c0fe167a",
   "metadata": {},
   "outputs": [],
   "source": []
  }
 ],
 "metadata": {
  "kernelspec": {
   "display_name": "Python 3 (ipykernel)",
   "language": "python",
   "name": "python3"
  },
  "language_info": {
   "codemirror_mode": {
    "name": "ipython",
    "version": 3
   },
   "file_extension": ".py",
   "mimetype": "text/x-python",
   "name": "python",
   "nbconvert_exporter": "python",
   "pygments_lexer": "ipython3",
   "version": "3.11.7"
  }
 },
 "nbformat": 4,
 "nbformat_minor": 5
}
